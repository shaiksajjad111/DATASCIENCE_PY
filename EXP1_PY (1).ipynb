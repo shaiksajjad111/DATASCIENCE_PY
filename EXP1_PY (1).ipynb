{
  "nbformat": 4,
  "nbformat_minor": 0,
  "metadata": {
    "colab": {
      "provenance": []
    },
    "kernelspec": {
      "name": "python3",
      "display_name": "Python 3"
    },
    "language_info": {
      "name": "python"
    }
  },
  "cells": [
    {
      "cell_type": "code",
      "execution_count": null,
      "metadata": {
        "id": "1W9AeQ52s_4B"
      },
      "outputs": [],
      "source": []
    },
    {
      "cell_type": "code",
      "source": [
        "print(\"hi\")"
      ],
      "metadata": {
        "colab": {
          "base_uri": "https://localhost:8080/"
        },
        "id": "41Zdeb-EtYk1",
        "outputId": "4fbaec87-c4b1-4e1b-d920-7a5ca51bbc94"
      },
      "execution_count": null,
      "outputs": [
        {
          "output_type": "stream",
          "name": "stdout",
          "text": [
            "hi\n"
          ]
        }
      ]
    },
    {
      "cell_type": "markdown",
      "source": [
        "**EXPERIMENT ONE FOR LISTS**"
      ],
      "metadata": {
        "id": "VqCp0aDW4jce"
      }
    },
    {
      "cell_type": "markdown",
      "source": [],
      "metadata": {
        "id": "VaBSQHvHtZHk"
      }
    },
    {
      "cell_type": "code",
      "source": [
        "my=[1,2,3,4,5,5,6,7,7,6,5]\n",
        "my.append(9)\n",
        "my.extend([10,11,21])\n",
        "my.remove(4)\n",
        "my.pop(4)\n",
        "slice1=my[:6]\n",
        "slice2=my[4:]\n",
        "slice3=my[3:9]\n",
        "print(\"original list: \",my)\n",
        "print(\"slice 1 is : slice[:6] \",slice1)\n",
        "print(\"slice 2 is : slice[4:] \",slice2)\n",
        "print(\"slice 3 is : slice[3:9] \",slice3)\n",
        "empty_list=[]\n",
        "empty_list.extend(slice3)\n",
        "print(\"extended list: \",empty_list)\n",
        "l1=[0,99,999]\n",
        "l2=[1,11,111]\n",
        "mat=[l1,l2]\n",
        "print(\"matrix is: \")\n",
        "for i in mat:\n",
        "  print(i)"
      ],
      "metadata": {
        "colab": {
          "base_uri": "https://localhost:8080/"
        },
        "id": "PdswQV1f4wsW",
        "outputId": "f8981a7e-78a0-4a50-e6f2-5ee6079970e1"
      },
      "execution_count": null,
      "outputs": [
        {
          "output_type": "stream",
          "name": "stdout",
          "text": [
            "original list:  [1, 2, 3, 5, 6, 7, 7, 6, 5, 9, 10, 11, 21]\n",
            "slice 1 is : slice[:6]  [1, 2, 3, 5, 6, 7]\n",
            "slice 2 is : slice[4:]  [6, 7, 7, 6, 5, 9, 10, 11, 21]\n",
            "slice 3 is : slice[3:9]  [5, 6, 7, 7, 6, 5]\n",
            "extended list:  [5, 6, 7, 7, 6, 5]\n",
            "matrix is: \n",
            "[0, 99, 999]\n",
            "[1, 11, 111]\n"
          ]
        }
      ]
    },
    {
      "cell_type": "markdown",
      "source": [
        "**EXPERIMENT ONE FOR TUPLES**"
      ],
      "metadata": {
        "id": "Iwz0SWv06KlB"
      }
    },
    {
      "cell_type": "code",
      "source": [
        "TUP=(1,22,3,4,555,6,7,8)\n",
        "slice1=TUP[3:]\n",
        "slice2=TUP[:4]\n",
        "slice3=TUP[1:5]\n",
        "print(\"original tuple: \",TUP)\n",
        "print(\"slice 1 is : slice[3:] \",slice1)\n",
        "print(\"slice 2 is : slice[:4] \",slice2)\n",
        "print(\"slice 3 is : slice[1:5] \",slice3)\n"
      ],
      "metadata": {
        "colab": {
          "base_uri": "https://localhost:8080/"
        },
        "id": "-Fi2Ftpy6SVo",
        "outputId": "ee5669a6-89f6-443e-f2b8-ea9f2f3db639"
      },
      "execution_count": null,
      "outputs": [
        {
          "output_type": "stream",
          "name": "stdout",
          "text": [
            "original tuple:  (1, 22, 3, 4, 555, 6, 7, 8)\n",
            "slice 1 is : slice[3:]  (4, 555, 6, 7, 8)\n",
            "slice 2 is : slice[:4]  (1, 22, 3, 4)\n",
            "slice 3 is : slice[1:5]  (22, 3, 4, 555)\n"
          ]
        }
      ]
    },
    {
      "cell_type": "markdown",
      "source": [
        "**EXPERIMENT ONE FOR DICTIONARIES**"
      ],
      "metadata": {
        "id": "NjglcRvt8QnU"
      }
    },
    {
      "cell_type": "code",
      "source": [
        "DC={\"Batman\":1,\"Joker\":2,\"Superman\":3}\n",
        "DC[\"Catwoman\"]=4\n",
        "DC.update({\"Hulk\":5,\"Cap\":6})\n",
        "print(DC)\n",
        "del DC[\"Catwoman\"]\n",
        "print(DC)\n",
        "DC.pop(\"Superman\")\n",
        "print(\"manipulated DC is :\",DC)\n",
        "new_DC={}\n",
        "new_DC.update(DC)\n",
        "print(\"new DC is : \",DC)\n",
        "D100={1:1,2:2,3:3}\n",
        "D101={4:4,5:5,6:6}\n",
        "mat=[D100,D101]\n",
        "print(\"matrix is: \")\n",
        "for i in mat:\n",
        "  print(i)\n"
      ],
      "metadata": {
        "colab": {
          "base_uri": "https://localhost:8080/"
        },
        "id": "1MkelUZJ8WAT",
        "outputId": "7ad7ee73-dec8-40a4-b520-e2a750676070"
      },
      "execution_count": null,
      "outputs": [
        {
          "output_type": "stream",
          "name": "stdout",
          "text": [
            "{'Batman': 1, 'Joker': 2, 'Superman': 3, 'Catwoman': 4, 'Hulk': 5, 'Cap': 6}\n",
            "{'Batman': 1, 'Joker': 2, 'Superman': 3, 'Hulk': 5, 'Cap': 6}\n",
            "manipulated DC is : {'Batman': 1, 'Joker': 2, 'Hulk': 5, 'Cap': 6}\n",
            "new DC is :  {'Batman': 1, 'Joker': 2, 'Hulk': 5, 'Cap': 6}\n",
            "matrix is: \n",
            "{1: 1, 2: 2, 3: 3}\n",
            "{4: 4, 5: 5, 6: 6}\n"
          ]
        }
      ]
    },
    {
      "cell_type": "markdown",
      "source": [],
      "metadata": {
        "id": "sg1C49c38O2_"
      }
    }
  ]
}